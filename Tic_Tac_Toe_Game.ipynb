{
  "nbformat": 4,
  "nbformat_minor": 0,
  "metadata": {
    "colab": {
      "provenance": []
    },
    "kernelspec": {
      "name": "python3",
      "display_name": "Python 3"
    },
    "language_info": {
      "name": "python"
    }
  },
  "cells": [
    {
      "cell_type": "code",
      "source": [
        "\n",
        "# Design the game board as a 3x3 list of lists. Each element in the list represents a square on the board and is initially set to an empty string.\n",
        "game_board = [['', '', ''], ['', '', ''], ['', '', '']]\n",
        "\n",
        "# Create a function to print the game board to the console.\n",
        "def print_board(board):\n",
        "    for row in board:\n",
        "        print('|'.join(row))\n",
        "        print('-' * 5)\n",
        "\n",
        "# Create a function to handle player moves.\n",
        "def player_move(board, player):\n",
        "    while True:\n",
        "        try:\n",
        "            row = int(input(f\"Player {player}, enter row (0, 1, 2): \"))\n",
        "            col = int(input(f\"Player {player}, enter column (0, 1, 2): \"))\n",
        "\n",
        "            if 0 <= row < 3 and 0 <= col < 3 and board[row][col] == '':\n",
        "                board[row][col] = player\n",
        "                break\n",
        "            else:\n",
        "                print(\"Invalid move. Try again.\")\n",
        "        except ValueError:\n",
        "            print(\"Invalid input. Enter numbers between 0 and 2.\")\n",
        "\n",
        "# Create a function to check for a win.\n",
        "def check_win(board, player):\n",
        "    for i in range(3):\n",
        "        if all(board[i][j] == player for j in range(3)) or \\\n",
        "           all(board[j][i] == player for j in range(3)):\n",
        "            return True\n",
        "\n",
        "    if all(board[i][i] == player for i in range(3)) or \\\n",
        "       all(board[i][2-i] == player for i in range(3)):\n",
        "        return True\n",
        "\n",
        "    return False\n",
        "\n",
        "# Create a function to check for a tie.\n",
        "def check_tie(board):\n",
        "    return all(all(cell != '' for cell in row) for row in board)\n",
        "\n",
        "# Create a main game loop that alternates between the two players.\n",
        "current_player = 'X'\n",
        "while True:\n",
        "    print_board(game_board)\n",
        "    player_move(game_board, current_player)\n",
        "\n",
        "    if check_win(game_board, current_player):\n",
        "        print_board(game_board)\n",
        "        print(f\"Player {current_player} wins!\")\n",
        "        break\n",
        "    elif check_tie(game_board):\n",
        "        print_board(game_board)\n",
        "        print(\"It's a tie!\")\n",
        "        break\n",
        "\n",
        "    current_player = 'O' if current_player == 'X' else 'X'\n"
      ],
      "metadata": {
        "id": "stllYoRrq2ef",
        "colab": {
          "base_uri": "https://localhost:8080/"
        },
        "outputId": "b74183c7-bcbb-41a9-fb4b-be986144537b"
      },
      "execution_count": 2,
      "outputs": [
        {
          "output_type": "stream",
          "name": "stdout",
          "text": [
            "||\n",
            "-----\n",
            "||\n",
            "-----\n",
            "||\n",
            "-----\n",
            "Player X, enter row (0, 1, 2): 0\n",
            "Player X, enter column (0, 1, 2): 0\n",
            "X||\n",
            "-----\n",
            "||\n",
            "-----\n",
            "||\n",
            "-----\n",
            "Player O, enter row (0, 1, 2): 0\n",
            "Player O, enter column (0, 1, 2): 0\n",
            "Invalid move. Try again.\n",
            "Player O, enter row (0, 1, 2): 1\n",
            "Player O, enter column (0, 1, 2): 0\n",
            "X||\n",
            "-----\n",
            "O||\n",
            "-----\n",
            "||\n",
            "-----\n",
            "Player X, enter row (0, 1, 2): 0\n",
            "Player X, enter column (0, 1, 2): 2\n",
            "X||X\n",
            "-----\n",
            "O||\n",
            "-----\n",
            "||\n",
            "-----\n",
            "Player O, enter row (0, 1, 2): 1\n",
            "Player O, enter column (0, 1, 2): 2\n",
            "X||X\n",
            "-----\n",
            "O||O\n",
            "-----\n",
            "||\n",
            "-----\n",
            "Player X, enter row (0, 1, 2): 2\n",
            "Player X, enter column (0, 1, 2): 0\n",
            "X||X\n",
            "-----\n",
            "O||O\n",
            "-----\n",
            "X||\n",
            "-----\n",
            "Player O, enter row (0, 1, 2): 1\n",
            "Player O, enter column (0, 1, 2): 2\n",
            "Invalid move. Try again.\n",
            "Player O, enter row (0, 1, 2): 0\n",
            "Player O, enter column (0, 1, 2): 2\n",
            "Invalid move. Try again.\n",
            "Player O, enter row (0, 1, 2): 1\n",
            "Player O, enter column (0, 1, 2): 0\n",
            "Invalid move. Try again.\n",
            "Player O, enter row (0, 1, 2): 1\n",
            "Player O, enter column (0, 1, 2): 1\n",
            "X||X\n",
            "-----\n",
            "O|O|O\n",
            "-----\n",
            "X||\n",
            "-----\n",
            "Player O wins!\n"
          ]
        }
      ]
    },
    {
      "cell_type": "code",
      "source": [],
      "metadata": {
        "id": "sPU_UMiCq2bI"
      },
      "execution_count": null,
      "outputs": []
    },
    {
      "cell_type": "code",
      "source": [],
      "metadata": {
        "id": "jBIVwCkpq2Yf"
      },
      "execution_count": null,
      "outputs": []
    },
    {
      "cell_type": "code",
      "source": [],
      "metadata": {
        "id": "quMuBh_8q2Vs"
      },
      "execution_count": null,
      "outputs": []
    }
  ]
}